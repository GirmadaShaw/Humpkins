{
 "cells": [
  {
   "cell_type": "code",
   "execution_count": null,
   "metadata": {},
   "outputs": [],
   "source": [
    "import os\n",
    "import numpy as np\n",
    "import pandas as pd \n",
    "from PIL import Image\n",
    "from tqdm import tqdm\n"
   ]
  },
  {
   "cell_type": "code",
   "execution_count": 2,
   "metadata": {},
   "outputs": [],
   "source": [
    "outer_names = ['test', 'train']\n",
    "inner_names = ['angry', 'disgusted', 'fearful', 'happy', 'sad', 'surprised', 'neutral']\n",
    "\n",
    "root_directory = 'D:\\\\Projects\\\\Face_Emotion_Detection\\\\src'\n",
    "os.makedirs(root_directory, exist_ok=True)\n",
    "\n",
    "# Create the directory structure\n",
    "for outer_name in outer_names:\n",
    "    for inner_name in inner_names:\n",
    "        directory = os.path.join(root_directory, outer_name, inner_name)\n",
    "        os.makedirs(directory, exist_ok=True)\n",
    "\n",
    "angry, disgusted, fearful, happy, sad, surprised, neutral = 0, 0, 0, 0, 0, 0, 0\n",
    "angry_test, disgusted_test, fearful_test, happy_test, sad_test, surprised_test, neutral_test = 0, 0, 0, 0, 0, 0, 0\n",
    "\n"
   ]
  },
  {
   "cell_type": "code",
   "execution_count": 3,
   "metadata": {},
   "outputs": [
    {
     "name": "stdout",
     "output_type": "stream",
     "text": [
      "Saving images...\n"
     ]
    }
   ],
   "source": [
    "df = pd.read_csv('./fer2013.csv')\n",
    "mat = np.zeros((48,48) , dtype=np.uint8)\n",
    "print(\"Saving images...\")"
   ]
  },
  {
   "cell_type": "code",
   "execution_count": 4,
   "metadata": {},
   "outputs": [],
   "source": [
    "def atoi(s):\n",
    "    n = 0\n",
    "    for i in s:\n",
    "        n = n*10 + ord(i) - ord(\"0\")\n",
    "    return n"
   ]
  },
  {
   "cell_type": "code",
   "execution_count": 5,
   "metadata": {},
   "outputs": [
    {
     "name": "stderr",
     "output_type": "stream",
     "text": [
      "  0%|          | 0/35887 [00:00<?, ?it/s]"
     ]
    },
    {
     "name": "stderr",
     "output_type": "stream",
     "text": [
      "100%|██████████| 35887/35887 [01:30<00:00, 394.69it/s]"
     ]
    },
    {
     "name": "stdout",
     "output_type": "stream",
     "text": [
      "Done!\n"
     ]
    },
    {
     "name": "stderr",
     "output_type": "stream",
     "text": [
      "\n"
     ]
    }
   ],
   "source": [
    "for i in tqdm(range(len(df))):\n",
    "    txt = df['pixels'][i]\n",
    "    words = txt.split()\n",
    "    \n",
    "    # the image size is 48x48\n",
    "    for j in range(2304):\n",
    "        xind = j // 48\n",
    "        yind = j % 48\n",
    "        mat[xind][yind] = int(words[j])\n",
    "\n",
    "    img = Image.fromarray(mat)\n",
    "\n",
    "    # Determine whether to save in train or test directory\n",
    "    if i < 28709:\n",
    "        directory = 'train'\n",
    "    else:\n",
    "        directory = 'test'\n",
    "\n",
    "    # Determine the emotion and save the image accordingly\n",
    "    emotion = df['emotion'][i]\n",
    "    if emotion == 0:\n",
    "        img.save(f'{root_directory}/{directory}/angry/im{angry}.png')\n",
    "        angry += 1\n",
    "    elif emotion == 1:\n",
    "        img.save(f'{root_directory}/{directory}/disgusted/im{disgusted}.png')\n",
    "        disgusted += 1\n",
    "    elif emotion == 2:\n",
    "        img.save(f'{root_directory}/{directory}/fearful/im{fearful}.png')\n",
    "        fearful += 1\n",
    "    elif emotion == 3:\n",
    "        img.save(f'{root_directory}/{directory}/happy/im{happy}.png')\n",
    "        happy += 1\n",
    "    elif emotion == 4:\n",
    "        img.save(f'{root_directory}/{directory}/sad/im{sad}.png')\n",
    "        sad += 1\n",
    "    elif emotion == 5:\n",
    "        img.save(f'{root_directory}/{directory}/surprised/im{surprised}.png')\n",
    "        surprised += 1\n",
    "    elif emotion == 6:\n",
    "        img.save(f'{root_directory}/{directory}/neutral/im{neutral}.png')\n",
    "        neutral += 1\n",
    "\n",
    "print(\"Done!\")\n"
   ]
  }
 ],
 "metadata": {
  "kernelspec": {
   "display_name": "Python 3",
   "language": "python",
   "name": "python3"
  },
  "language_info": {
   "codemirror_mode": {
    "name": "ipython",
    "version": 3
   },
   "file_extension": ".py",
   "mimetype": "text/x-python",
   "name": "python",
   "nbconvert_exporter": "python",
   "pygments_lexer": "ipython3",
   "version": "3.12.3"
  }
 },
 "nbformat": 4,
 "nbformat_minor": 2
}
